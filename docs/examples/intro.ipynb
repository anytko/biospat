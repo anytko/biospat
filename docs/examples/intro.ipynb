{
 "cells": [
  {
   "cell_type": "code",
   "execution_count": null,
   "metadata": {},
   "outputs": [],
   "source": [
    "import biospat.biospat as biospat_full\n",
    "from biospat.stand_alone_functions import (\n",
    "    merge_touching_groups,\n",
    "    classify_range_edges,\n",
    "    assign_polygon_clusters,\n",
    "    update_polygon_categories,\n",
    "    process_gbif_csv,\n",
    "    fetch_gbif_data,\n",
    "    convert_to_gdf,\n",
    "    make_dbscan_polygons_with_points_from_gdf,\n",
    "    get_start_year_from_species,\n",
    "    prune_by_year,\n",
    "    clip_polygons_to_continent,\n",
    "    assign_polygon_clusters_gbif,\n",
    "    classify_range_edges_gbif,\n",
    "    update_polygon_categories_gbif,\n",
    "    merge_and_remap_polygons,\n",
    "    remove_lakes_and_plot_gbif,\n",
    ")\n",
    "from biospat.references_data import REFERENCES"
   ]
  },
  {
   "cell_type": "code",
   "execution_count": null,
   "metadata": {},
   "outputs": [],
   "source": [
    "euc_list = fetch_gbif_data(\"Acer rubrum\", limit=1000)\n",
    "euc_gdf = convert_to_gdf(euc_list)\n",
    "polys = make_dbscan_polygons_with_points_from_gdf(euc_gdf)\n",
    "new_polys = prune_by_year(polys, 1971, 2025)\n",
    "merged_polygons = merge_and_remap_polygons(new_polys, buffer_distance=10)\n",
    "\n",
    "unique_polys_no_lakes = remove_lakes_and_plot_gbif(merged_polygons)\n",
    "\n",
    "clipped_polys = clip_polygons_to_continent(unique_polys_no_lakes)\n",
    "\n",
    "clipped_polys"
   ]
  },
  {
   "cell_type": "code",
   "execution_count": null,
   "metadata": {},
   "outputs": [],
   "source": [
    "import geopandas as gpd\n",
    "\n",
    "\n",
    "new_map = biospat_full.Map()\n",
    "\n",
    "# Load your range polygons and lakes\n",
    "new_map.load_historic_data(\"Acer negundo\")  # Replace with your actual species name\n",
    "\n",
    "# Remove lakes from the range polygons\n",
    "range_no_lakes = new_map.remove_lakes(new_map.gdfs[\"acernegu\"])\n",
    "\n",
    "merged_polygons = merge_touching_groups(range_no_lakes, buffer_distance=5000)\n",
    "\n",
    "island_states_gdf = gpd.read_file(\"../../island_states.gpkg\")\n",
    "\n",
    "# Find and cluster polygons\n",
    "\n",
    "clustered_polygons, largest_polygons = assign_polygon_clusters(merged_polygons)\n",
    "\n",
    "# clustered_polygons.plot(column='cluster', figsize=(10, 10))\n",
    "\n",
    "classified_polygons = classify_range_edges(clustered_polygons, largest_polygons)\n",
    "\n",
    "updated_polygon = update_polygon_categories(\n",
    "    largest_polygons, classified_polygons, island_states_gdf\n",
    ")\n",
    "\n",
    "updated_polygon.plot(column=\"category\", figsize=(10, 10), legend=True)"
   ]
  }
 ],
 "metadata": {
  "kernelspec": {
   "display_name": "biodiviz",
   "language": "python",
   "name": "python3"
  },
  "language_info": {
   "codemirror_mode": {
    "name": "ipython",
    "version": 3
   },
   "file_extension": ".py",
   "mimetype": "text/x-python",
   "name": "python",
   "nbconvert_exporter": "python",
   "pygments_lexer": "ipython3",
   "version": "3.12.9"
  }
 },
 "nbformat": 4,
 "nbformat_minor": 2
}
