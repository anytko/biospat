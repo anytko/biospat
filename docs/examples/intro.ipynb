{
 "cells": [
  {
   "cell_type": "code",
   "execution_count": null,
   "metadata": {},
   "outputs": [],
   "source": [
    "import biospat.biospat as biospat_full\n",
    "from biospat.stand_alone_functions import (\n",
    "    merge_touching_groups,\n",
    "    classify_range_edges,\n",
    "    assign_polygon_clusters,\n",
    "    update_polygon_categories,\n",
    ")"
   ]
  },
  {
   "cell_type": "code",
   "execution_count": null,
   "metadata": {},
   "outputs": [],
   "source": [
    "import geopandas as gpd\n",
    "\n",
    "\n",
    "new_map = biospat_full.Map()\n",
    "\n",
    "# Load your range polygons and lakes\n",
    "new_map.load_historic_data(\"Acer negundo\")  # Replace with your actual species name\n",
    "\n",
    "# Remove lakes from the range polygons\n",
    "range_no_lakes = new_map.remove_lakes(new_map.gdfs[\"acernegu\"])\n",
    "\n",
    "merged_polygons = merge_touching_groups(range_no_lakes, buffer_distance=5000)\n",
    "\n",
    "island_states_gdf = gpd.read_file(\"../../island_states.gpkg\")\n",
    "\n",
    "# Find and cluster polygons\n",
    "\n",
    "clustered_polygons, largest_polygons = assign_polygon_clusters(\n",
    "    merged_polygons, island_states_gdf\n",
    ")\n",
    "\n",
    "# clustered_polygons.plot(column='cluster', figsize=(10, 10))\n",
    "\n",
    "classified_polygons = classify_range_edges(clustered_polygons, largest_polygons)\n",
    "\n",
    "updated_polygon = update_polygon_categories(\n",
    "    largest_polygons, classified_polygons, island_states_gdf\n",
    ")\n",
    "\n",
    "updated_polygon.plot(column=\"category\", figsize=(10, 10), legend=True)"
   ]
  }
 ],
 "metadata": {
  "kernelspec": {
   "display_name": "biodiviz",
   "language": "python",
   "name": "python3"
  },
  "language_info": {
   "codemirror_mode": {
    "name": "ipython",
    "version": 3
   },
   "file_extension": ".py",
   "mimetype": "text/x-python",
   "name": "python",
   "nbconvert_exporter": "python",
   "pygments_lexer": "ipython3",
   "version": "3.12.9"
  }
 },
 "nbformat": 4,
 "nbformat_minor": 2
}
