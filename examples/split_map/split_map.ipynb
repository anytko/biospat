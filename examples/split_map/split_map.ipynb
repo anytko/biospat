{
 "cells": [
  {
   "cell_type": "code",
   "execution_count": null,
   "metadata": {},
   "outputs": [],
   "source": [
    "import biospat.foliummap as biospat_foliummap"
   ]
  },
  {
   "cell_type": "code",
   "execution_count": null,
   "metadata": {},
   "outputs": [],
   "source": [
    "split_map_base = biospat_foliummap.Map(center=[40, -100], zoom=4)\n",
    "split_map_base.add_split_map(left=\"Esri.WorldImagery\", right=\"cartodbpositron\")\n",
    "split_map_base.add_layer_control()\n",
    "split_map_base"
   ]
  },
  {
   "cell_type": "code",
   "execution_count": null,
   "metadata": {},
   "outputs": [],
   "source": [
    "split_map_r_b = biospat_foliummap.Map(center=[-8.3793, -74.5357], zoom=8)\n",
    "split_map_r_b.add_split_map(\n",
    "    left=\"https://raw.githubusercontent.com/opengeos/data/main/landsat/2020.tif\",\n",
    "    right=\"OpenTopoMap\",\n",
    "    colormap_left=\"viridis\",\n",
    "    opacity_left=0.9,\n",
    ")\n",
    "split_map_r_b.add_layer_control()\n",
    "split_map_r_b"
   ]
  },
  {
   "cell_type": "code",
   "execution_count": null,
   "metadata": {},
   "outputs": [],
   "source": [
    "split_map_raster = biospat_foliummap.Map(center=[-8.3793, -74.5357], zoom=10)\n",
    "\n",
    "split_map_raster.add_split_map(\n",
    "    left=\"https://raw.githubusercontent.com/opengeos/data/main/landsat/2020.tif\",\n",
    "    right=\"https://raw.githubusercontent.com/opengeos/data/main/landsat/2020.tif\",\n",
    "    colormap_left=\"viridis\",\n",
    "    colormap_right=\"magma\",\n",
    "    opacity_left=0.9,\n",
    "    opacity_right=0.5,\n",
    ")\n",
    "\n",
    "split_map_raster.add_layer_control()\n",
    "\n",
    "split_map_raster"
   ]
  }
 ],
 "metadata": {
  "kernelspec": {
   "display_name": "biodiviz",
   "language": "python",
   "name": "python3"
  },
  "language_info": {
   "codemirror_mode": {
    "name": "ipython",
    "version": 3
   },
   "file_extension": ".py",
   "mimetype": "text/x-python",
   "name": "python",
   "nbconvert_exporter": "python",
   "pygments_lexer": "ipython3",
   "version": "3.12.9"
  }
 },
 "nbformat": 4,
 "nbformat_minor": 2
}
